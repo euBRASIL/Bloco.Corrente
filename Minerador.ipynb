{
  "nbformat": 4,
  "nbformat_minor": 0,
  "metadata": {
    "colab": {
      "provenance": [],
      "authorship_tag": "ABX9TyPvcD1qVvf9E4NlTri/g0+p",
      "include_colab_link": true
    },
    "kernelspec": {
      "name": "python3",
      "display_name": "Python 3"
    },
    "language_info": {
      "name": "python"
    }
  },
  "cells": [
    {
      "cell_type": "markdown",
      "metadata": {
        "id": "view-in-github",
        "colab_type": "text"
      },
      "source": [
        "<a href=\"https://colab.research.google.com/github/euBRASIL/Bloco.Corrente/blob/main/Minerador.ipynb\" target=\"_parent\"><img src=\"https://colab.research.google.com/assets/colab-badge.svg\" alt=\"Open In Colab\"/></a>"
      ]
    },
    {
      "cell_type": "code",
      "source": [
        "import hashlib\n",
        "import json\n",
        "import sys\n",
        "from tqdm import tqdm"
      ],
      "metadata": {
        "id": "HNxKhib7djn5"
      },
      "execution_count": 46,
      "outputs": []
    },
    {
      "cell_type": "code",
      "source": [
        "pip install base58==2.1.1\n"
      ],
      "metadata": {
        "colab": {
          "base_uri": "https://localhost:8080/"
        },
        "id": "SWt52Oqydz9p",
        "outputId": "622c4239-e4bc-4f56-c1aa-710bd6badd11"
      },
      "execution_count": 26,
      "outputs": [
        {
          "output_type": "stream",
          "name": "stdout",
          "text": [
            "Requirement already satisfied: base58==2.1.1 in /usr/local/lib/python3.10/dist-packages (2.1.1)\n"
          ]
        }
      ]
    },
    {
      "cell_type": "code",
      "source": [
        "import base58"
      ],
      "metadata": {
        "id": "ZNWFC2suen3f"
      },
      "execution_count": 27,
      "outputs": []
    },
    {
      "cell_type": "code",
      "source": [
        "pip install ecdsa"
      ],
      "metadata": {
        "colab": {
          "base_uri": "https://localhost:8080/"
        },
        "id": "uk7Aam43epwP",
        "outputId": "e0583ee0-626e-4afe-f7de-25ae24600c28"
      },
      "execution_count": 28,
      "outputs": [
        {
          "output_type": "stream",
          "name": "stdout",
          "text": [
            "Requirement already satisfied: ecdsa in /usr/local/lib/python3.10/dist-packages (0.18.0)\n",
            "Requirement already satisfied: six>=1.9.0 in /usr/local/lib/python3.10/dist-packages (from ecdsa) (1.16.0)\n"
          ]
        }
      ]
    },
    {
      "cell_type": "code",
      "source": [
        "import ecdsa"
      ],
      "metadata": {
        "id": "HjuPVhSeezPZ"
      },
      "execution_count": 29,
      "outputs": []
    },
    {
      "cell_type": "code",
      "source": [
        "pip install ripemd-hash==1.0.1"
      ],
      "metadata": {
        "colab": {
          "base_uri": "https://localhost:8080/"
        },
        "id": "fFpEGhWooH4w",
        "outputId": "7a56f181-24d7-4ee0-cc29-cabd9c57d46f"
      },
      "execution_count": 79,
      "outputs": [
        {
          "output_type": "stream",
          "name": "stdout",
          "text": [
            "Requirement already satisfied: ripemd-hash==1.0.1 in /usr/local/lib/python3.10/dist-packages (1.0.1)\n"
          ]
        }
      ]
    },
    {
      "cell_type": "code",
      "source": [
        "from ripemd.ripemd160 import ripemd160  # import function"
      ],
      "metadata": {
        "id": "SKHnL-HLo4SC"
      },
      "execution_count": 68,
      "outputs": []
    },
    {
      "cell_type": "code",
      "source": [
        "pip install pyOpenSSL"
      ],
      "metadata": {
        "colab": {
          "base_uri": "https://localhost:8080/"
        },
        "id": "jlE3F2FJfkYa",
        "outputId": "5275aeeb-4f51-42d6-8aaf-da153224609e"
      },
      "execution_count": 30,
      "outputs": [
        {
          "output_type": "stream",
          "name": "stdout",
          "text": [
            "Requirement already satisfied: pyOpenSSL in /usr/local/lib/python3.10/dist-packages (23.2.0)\n",
            "Requirement already satisfied: cryptography!=40.0.0,!=40.0.1,<42,>=38.0.0 in /usr/local/lib/python3.10/dist-packages (from pyOpenSSL) (41.0.3)\n",
            "Requirement already satisfied: cffi>=1.12 in /usr/local/lib/python3.10/dist-packages (from cryptography!=40.0.0,!=40.0.1,<42,>=38.0.0->pyOpenSSL) (1.15.1)\n",
            "Requirement already satisfied: pycparser in /usr/local/lib/python3.10/dist-packages (from cffi>=1.12->cryptography!=40.0.0,!=40.0.1,<42,>=38.0.0->pyOpenSSL) (2.21)\n"
          ]
        }
      ]
    },
    {
      "cell_type": "code",
      "source": [
        "def calculate_match_percentage(str1, str2):\n",
        "    len_str1 = len(str1)\n",
        "    len_str2 = len(str2)\n",
        "\n",
        "    min_len = min(len_str1, len_str2)\n",
        "    matching_chars = sum(1 for c1, c2 in zip(str1, str2) if c1 == c2)\n",
        "\n",
        "    return (matching_chars / min_len) * 100"
      ],
      "metadata": {
        "id": "S039OjQXe3lB"
      },
      "execution_count": 31,
      "outputs": []
    },
    {
      "cell_type": "code",
      "source": [
        "def generate_bitcoin_keypair_range(start_hex, end_hex, target_address):\n",
        "    start_int = int(start_hex, 16)\n",
        "    end_int = int(end_hex, 16)\n",
        "    step = 10000000  # Define o tamanho do passo para iterar de |10|000|000|\n",
        "\n",
        "    max_match_percentage = 0\n",
        "    max_match_address = \"\"\n",
        "\n",
        "    resultados_json = []  # Lista para armazenar os resultados\n",
        "\n",
        "    with open(\"29Porcento.txt\", \"a\") as file:\n",
        "        for batch_start in range(start_int, end_int + 1, step):\n",
        "            batch_end = min(batch_start + step - 1, end_int)\n",
        "# -------------------------------------------------------------------------------------------------------\n",
        "# Loop para gerar o address do bitcoin, +1 << alterar >>\n",
        "#-------------------------------------------------------\n",
        "            for private_key_int in tqdm(range(batch_start, batch_end + 1), desc=\"Progresso\", unit=\"chaves\", file=sys.stdout):\n",
        "                private_key_hex = format(private_key_int, 'x').zfill(64)\n",
        "                private_key_bytes = bytes.fromhex(private_key_hex)\n",
        "                sk = ecdsa.SigningKey.from_string(private_key_bytes, curve=ecdsa.SECP256k1)\n",
        "                vk = sk.get_verifying_key()\n",
        "\n",
        "                public_key_bytes = vk.to_string()\n",
        "                sha256_hash = hashlib.sha256(public_key_bytes).digest()\n",
        "\n",
        "                # h = ripemd160.new()\n",
        "                ripemd160(b'abc').hex() == sha256_hash\n",
        "                ripemd160_hash = bytes.fromhex(ripemd160(b'a' * 1000000).hex())\n",
        "\n",
        "                extended_hash = b'\\x00' + ripemd160_hash\n",
        "                checksum = hashlib.sha256(hashlib.sha256(extended_hash).digest()).digest()[:4]\n",
        "                address_bytes = extended_hash + checksum\n",
        "                bitcoin_address = base58.b58encode(address_bytes).decode()\n",
        "\n",
        "                match_percentage = calculate_match_percentage(target_address, bitcoin_address)\n",
        "                if match_percentage > max_match_percentage:\n",
        "                    max_match_percentage = match_percentage\n",
        "                    max_match_address = bitcoin_address\n",
        "\n",
        "\n",
        "                # if match_percentage > 26 and bitcoin_address.startswith(\"13\"):\n",
        "                print(f\"\\nChave Privada (hexadecimal): {private_key_hex}\")\n",
        "                print(f\"Endereço Bitcoin: {bitcoin_address}\")\n",
        "                print(f\"Percentual de Correspondência: {match_percentage:.2f}%\\n\")\n"
      ],
      "metadata": {
        "id": "UiPzzo8WgB9k"
      },
      "execution_count": 82,
      "outputs": []
    },
    {
      "cell_type": "code",
      "source": [
        "print(hashlib.algorithms_available)"
      ],
      "metadata": {
        "colab": {
          "base_uri": "https://localhost:8080/"
        },
        "id": "r93RQyE5l9fl",
        "outputId": "9a7041ea-6cb8-412c-a0ff-06c6aab04645"
      },
      "execution_count": 69,
      "outputs": [
        {
          "output_type": "stream",
          "name": "stdout",
          "text": [
            "{'blake2s', 'sm3', 'sha384', 'md5-sha1', 'shake_128', 'sha3_384', 'sha3_224', 'sha512', 'sha512_256', 'sha3_512', 'shake_256', 'sha512_224', 'sha3_256', 'sha256', 'sha1', 'md5', 'sha224', 'blake2b'}\n"
          ]
        }
      ]
    },
    {
      "cell_type": "code",
      "source": [
        "if __name__ == \"__main__\":\n",
        "    initial_private_key_hex = \"0000000000000000000000000000000000000000000000037777777777777777\"\n",
        "    final_private_key_hex =   \"000000000000000000000000000000000000000000000003ffffffffffffffff\"\n",
        "    target_address = \"13zb1hQbWVsc2S7ZTZnP2G4undNNpdh5so\"\n",
        ""
      ],
      "metadata": {
        "id": "T5epGjUQiN5G"
      },
      "execution_count": 73,
      "outputs": []
    },
    {
      "cell_type": "code",
      "source": [
        "    generate_bitcoin_keypair_range(initial_private_key_hex, final_private_key_hex, target_address)"
      ],
      "metadata": {
        "id": "wgkntKRcm_3J"
      },
      "execution_count": null,
      "outputs": []
    }
  ]
}